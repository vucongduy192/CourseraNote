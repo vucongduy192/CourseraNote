{
 "cells": [
  {
   "cell_type": "code",
   "execution_count": 5,
   "metadata": {},
   "outputs": [],
   "source": [
    "import tensorflow as tf"
   ]
  },
  {
   "cell_type": "markdown",
   "metadata": {},
   "source": [
    "**Question 1:** Main benefits of creating a computation graph rather than directly executing the computations\n",
    "\n",
    "**Answer:**\n",
    "* Cho phép thực hiện phép toán song song"
   ]
  },
  {
   "cell_type": "markdown",
   "metadata": {},
   "source": [
    "**Question 2:**\n",
    "Is the statement a_val = a.eval(session=sess) equivalent to a_val = sess.run(a) ?\n",
    "\n",
    "**Answer:** 2 lệnh chạy ra kết quả tương tự nhau"
   ]
  },
  {
   "cell_type": "code",
   "execution_count": 25,
   "metadata": {},
   "outputs": [
    {
     "name": "stdout",
     "output_type": "stream",
     "text": [
      "1\n",
      "<tf.Variable 'a_7:0' shape=() dtype=int32_ref>\n"
     ]
    }
   ],
   "source": [
    "with tf.Session() as sess:\n",
    "    sess.run(tf.global_variables_initializer())\n",
    "    a_val = sess.run(a)\n",
    "    print (a_val)\n",
    "    print (a)"
   ]
  },
  {
   "cell_type": "code",
   "execution_count": 26,
   "metadata": {},
   "outputs": [
    {
     "name": "stdout",
     "output_type": "stream",
     "text": [
      "1\n",
      "<tf.Variable 'a_7:0' shape=() dtype=int32_ref>\n"
     ]
    }
   ],
   "source": [
    "with tf.Session() as sess:\n",
    "    sess.run(tf.global_variables_initializer())\n",
    "    a_val = a.eval(session=sess)\n",
    "    print (a_val)\n",
    "    print (a)"
   ]
  },
  {
   "cell_type": "markdown",
   "metadata": {},
   "source": [
    "**Question 3:**\n",
    "Is the statement a_val, b_val = a.eval(session=sess), b.eval(ses sion=sess) equivalent to a_val, b_val = sess.run([a, b])?\n",
    "\n",
    "**Answer:**\n",
    "1. a_val, b_val = a.eval(session=sess), b.eval(ses sion=sess) chạy graph 2 lần\n",
    "2. a_val, b_val = sess.run([a, b]) chạy song song 1 lần\n",
    "\n",
    "Ở ví dụ dưới do sess.run([c, c]) thực hiện đồng thời, 2 biến trả về \"c\" có cùng giá trị"
   ]
  },
  {
   "cell_type": "code",
   "execution_count": 30,
   "metadata": {},
   "outputs": [
    {
     "name": "stdout",
     "output_type": "stream",
     "text": [
      "[2, 2]\n",
      "[2, 3]\n"
     ]
    }
   ],
   "source": [
    "a = tf.Variable(1, name='a')\n",
    "b = tf.constant(1, name='b')\n",
    "c = tf.assign(a, a + b)\n",
    "\n",
    "with tf.Session() as sess:\n",
    "    sess.run(tf.global_variables_initializer())\n",
    "    print (sess.run([c, c])) # chạy song song\n",
    "\n",
    "with tf.Session() as sess:\n",
    "    sess.run(tf.global_variables_initializer())\n",
    "    print ([c.eval(session=sess), c.eval(session=sess)])\n",
    "    "
   ]
  },
  {
   "cell_type": "markdown",
   "metadata": {},
   "source": [
    "**Question 5:**\n",
    "When is a variable initialized? When is it destroyed?\n",
    "\n",
    "**Asnwer: **"
   ]
  },
  {
   "cell_type": "code",
   "execution_count": 31,
   "metadata": {},
   "outputs": [
    {
     "name": "stdout",
     "output_type": "stream",
     "text": [
      "[2, 2]\n",
      "1\n"
     ]
    }
   ],
   "source": [
    "# Tạo 2 graph\n",
    "a = tf.Variable(1, name='a')\n",
    "b = tf.constant(1, name='b')\n",
    "c = tf.assign(a, a + b)\n",
    "\n",
    "d = tf.Variable(1, name='d')\n",
    "\n",
    "with tf.Session() as sess:\n",
    "    sess.run(tf.global_variables_initializer())\n",
    "    print (sess.run([c, c])) # chạy song song\n",
    "    print (sess.run(d))"
   ]
  },
  {
   "cell_type": "code",
   "execution_count": null,
   "metadata": {},
   "outputs": [],
   "source": []
  }
 ],
 "metadata": {
  "kernelspec": {
   "display_name": "Python 3",
   "language": "python",
   "name": "python3"
  },
  "language_info": {
   "codemirror_mode": {
    "name": "ipython",
    "version": 3
   },
   "file_extension": ".py",
   "mimetype": "text/x-python",
   "name": "python",
   "nbconvert_exporter": "python",
   "pygments_lexer": "ipython3",
   "version": "3.6.8"
  }
 },
 "nbformat": 4,
 "nbformat_minor": 2
}
